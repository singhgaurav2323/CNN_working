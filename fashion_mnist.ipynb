{
  "nbformat": 4,
  "nbformat_minor": 0,
  "metadata": {
    "colab": {
      "name": "fashion_mnist.ipynb",
      "version": "0.3.2",
      "provenance": [],
      "include_colab_link": true
    },
    "kernelspec": {
      "name": "python3",
      "display_name": "Python 3"
    }
  },
  "cells": [
    {
      "cell_type": "markdown",
      "metadata": {
        "id": "view-in-github",
        "colab_type": "text"
      },
      "source": [
        "<a href=\"https://colab.research.google.com/github/singhgaurav2323/CNN_working/blob/master/fashion_mnist.ipynb\" target=\"_parent\"><img src=\"https://colab.research.google.com/assets/colab-badge.svg\" alt=\"Open In Colab\"/></a>"
      ]
    },
    {
      "cell_type": "code",
      "metadata": {
        "id": "KtkmtfKMoHhZ",
        "colab_type": "code",
        "colab": {}
      },
      "source": [
        "import tensorflow as tf"
      ],
      "execution_count": 0,
      "outputs": []
    },
    {
      "cell_type": "code",
      "metadata": {
        "id": "-bVGDJhVoOuu",
        "colab_type": "code",
        "colab": {}
      },
      "source": [
        "#data set\n",
        "data_fashion= tf.keras.datasets.fashion_mnist\n"
      ],
      "execution_count": 0,
      "outputs": []
    },
    {
      "cell_type": "code",
      "metadata": {
        "id": "Jz_y26lYoixU",
        "colab_type": "code",
        "outputId": "c6537e32-06f4-4bf9-f41f-580beb168d6d",
        "colab": {
          "base_uri": "https://localhost:8080/",
          "height": 153
        }
      },
      "source": [
        "(train_image,train_label), (test_image,test_label)= data_fashion.load_data()"
      ],
      "execution_count": 0,
      "outputs": [
        {
          "output_type": "stream",
          "text": [
            "Downloading data from https://storage.googleapis.com/tensorflow/tf-keras-datasets/train-labels-idx1-ubyte.gz\n",
            "32768/29515 [=================================] - 0s 0us/step\n",
            "Downloading data from https://storage.googleapis.com/tensorflow/tf-keras-datasets/train-images-idx3-ubyte.gz\n",
            "26427392/26421880 [==============================] - 0s 0us/step\n",
            "Downloading data from https://storage.googleapis.com/tensorflow/tf-keras-datasets/t10k-labels-idx1-ubyte.gz\n",
            "8192/5148 [===============================================] - 0s 0us/step\n",
            "Downloading data from https://storage.googleapis.com/tensorflow/tf-keras-datasets/t10k-images-idx3-ubyte.gz\n",
            "4423680/4422102 [==============================] - 0s 0us/step\n"
          ],
          "name": "stdout"
        }
      ]
    },
    {
      "cell_type": "code",
      "metadata": {
        "id": "f0EGSyTwuKrK",
        "colab_type": "code",
        "colab": {}
      },
      "source": [
        "train_image,test_image=train_image/255.0,test_image/255.0"
      ],
      "execution_count": 0,
      "outputs": []
    },
    {
      "cell_type": "code",
      "metadata": {
        "id": "ENYLEnhlow8c",
        "colab_type": "code",
        "colab": {}
      },
      "source": [
        "model =tf.keras.models.Sequential([\n",
        "    tf.keras.layers.Flatten(input_shape=(28,28)),\n",
        "    tf.keras.layers.Dense(128, activation=\"relu\"),\n",
        "    tf.keras.layers.Dense(10,activation=\"softmax\")\n",
        "])\n",
        "\n"
      ],
      "execution_count": 0,
      "outputs": []
    },
    {
      "cell_type": "code",
      "metadata": {
        "id": "6oSMsPb8tSWH",
        "colab_type": "code",
        "colab": {}
      },
      "source": [
        "model.compile(optimizer=\"adam\", loss=\"sparse_categorical_crossentropy\",metrics=[\"accuracy\"])"
      ],
      "execution_count": 0,
      "outputs": []
    },
    {
      "cell_type": "code",
      "metadata": {
        "id": "8kyBt2jtt_bG",
        "colab_type": "code",
        "outputId": "4344430c-3453-4faf-a0d3-c9b4503ca8b3",
        "colab": {
          "base_uri": "https://localhost:8080/",
          "height": 1000
        }
      },
      "source": [
        "model.fit(train_image,train_label,epochs=50)"
      ],
      "execution_count": 0,
      "outputs": [
        {
          "output_type": "stream",
          "text": [
            "Epoch 1/50\n",
            "60000/60000 [==============================] - 4s 62us/sample - loss: 0.0501 - acc: 0.9813\n",
            "Epoch 2/50\n",
            "60000/60000 [==============================] - 4s 65us/sample - loss: 0.0483 - acc: 0.9821\n",
            "Epoch 3/50\n",
            "60000/60000 [==============================] - 4s 68us/sample - loss: 0.0493 - acc: 0.9815\n",
            "Epoch 4/50\n",
            "60000/60000 [==============================] - 4s 60us/sample - loss: 0.0466 - acc: 0.9829\n",
            "Epoch 5/50\n",
            "60000/60000 [==============================] - 4s 63us/sample - loss: 0.0474 - acc: 0.9822\n",
            "Epoch 6/50\n",
            "60000/60000 [==============================] - 4s 70us/sample - loss: 0.0476 - acc: 0.9823\n",
            "Epoch 7/50\n",
            "60000/60000 [==============================] - 4s 59us/sample - loss: 0.0471 - acc: 0.9823\n",
            "Epoch 8/50\n",
            "60000/60000 [==============================] - 4s 64us/sample - loss: 0.0469 - acc: 0.9823\n",
            "Epoch 9/50\n",
            "60000/60000 [==============================] - 4s 61us/sample - loss: 0.0442 - acc: 0.9836\n",
            "Epoch 10/50\n",
            "60000/60000 [==============================] - 4s 62us/sample - loss: 0.0475 - acc: 0.9829\n",
            "Epoch 11/50\n",
            "60000/60000 [==============================] - 4s 60us/sample - loss: 0.0434 - acc: 0.9836\n",
            "Epoch 12/50\n",
            "60000/60000 [==============================] - 4s 60us/sample - loss: 0.0453 - acc: 0.9835\n",
            "Epoch 13/50\n",
            "60000/60000 [==============================] - 4s 61us/sample - loss: 0.0433 - acc: 0.9840\n",
            "Epoch 14/50\n",
            "60000/60000 [==============================] - 4s 61us/sample - loss: 0.0483 - acc: 0.9822\n",
            "Epoch 15/50\n",
            "60000/60000 [==============================] - 4s 63us/sample - loss: 0.0404 - acc: 0.9845\n",
            "Epoch 16/50\n",
            "60000/60000 [==============================] - 4s 64us/sample - loss: 0.0429 - acc: 0.9845\n",
            "Epoch 17/50\n",
            "60000/60000 [==============================] - 4s 64us/sample - loss: 0.0448 - acc: 0.9836\n",
            "Epoch 18/50\n",
            "60000/60000 [==============================] - 4s 65us/sample - loss: 0.0414 - acc: 0.9845\n",
            "Epoch 19/50\n",
            "60000/60000 [==============================] - 4s 66us/sample - loss: 0.0395 - acc: 0.9856\n",
            "Epoch 20/50\n",
            "60000/60000 [==============================] - 4s 63us/sample - loss: 0.0441 - acc: 0.9842\n",
            "Epoch 21/50\n",
            "60000/60000 [==============================] - 4s 65us/sample - loss: 0.0402 - acc: 0.9849\n",
            "Epoch 22/50\n",
            "60000/60000 [==============================] - 4s 60us/sample - loss: 0.0414 - acc: 0.9847\n",
            "Epoch 23/50\n",
            "60000/60000 [==============================] - 4s 62us/sample - loss: 0.0398 - acc: 0.9851\n",
            "Epoch 24/50\n",
            "60000/60000 [==============================] - 4s 72us/sample - loss: 0.0450 - acc: 0.9844\n",
            "Epoch 25/50\n",
            "60000/60000 [==============================] - 4s 64us/sample - loss: 0.0397 - acc: 0.9854\n",
            "Epoch 26/50\n",
            "60000/60000 [==============================] - 4s 60us/sample - loss: 0.0374 - acc: 0.9863\n",
            "Epoch 27/50\n",
            "60000/60000 [==============================] - 4s 67us/sample - loss: 0.0411 - acc: 0.9850\n",
            "Epoch 28/50\n",
            "60000/60000 [==============================] - 4s 68us/sample - loss: 0.0409 - acc: 0.9851\n",
            "Epoch 29/50\n",
            "60000/60000 [==============================] - 4s 58us/sample - loss: 0.0381 - acc: 0.9856\n",
            "Epoch 30/50\n",
            "60000/60000 [==============================] - 4s 62us/sample - loss: 0.0369 - acc: 0.9861\n",
            "Epoch 31/50\n",
            "60000/60000 [==============================] - 4s 70us/sample - loss: 0.0381 - acc: 0.9859\n",
            "Epoch 32/50\n",
            "60000/60000 [==============================] - 4s 61us/sample - loss: 0.0378 - acc: 0.9862\n",
            "Epoch 33/50\n",
            "60000/60000 [==============================] - 4s 60us/sample - loss: 0.0412 - acc: 0.9851\n",
            "Epoch 34/50\n",
            "60000/60000 [==============================] - 4s 63us/sample - loss: 0.0339 - acc: 0.9877\n",
            "Epoch 35/50\n",
            "60000/60000 [==============================] - 4s 69us/sample - loss: 0.0360 - acc: 0.9862\n",
            "Epoch 36/50\n",
            "60000/60000 [==============================] - 4s 61us/sample - loss: 0.0394 - acc: 0.9858\n",
            "Epoch 37/50\n",
            "60000/60000 [==============================] - 4s 63us/sample - loss: 0.0347 - acc: 0.9871\n",
            "Epoch 38/50\n",
            "60000/60000 [==============================] - 4s 69us/sample - loss: 0.0370 - acc: 0.9862\n",
            "Epoch 39/50\n",
            "60000/60000 [==============================] - 4s 65us/sample - loss: 0.0349 - acc: 0.9865\n",
            "Epoch 40/50\n",
            "60000/60000 [==============================] - 4s 67us/sample - loss: 0.0363 - acc: 0.9866\n",
            "Epoch 41/50\n",
            "60000/60000 [==============================] - 5s 76us/sample - loss: 0.0357 - acc: 0.9871\n",
            "Epoch 42/50\n",
            "60000/60000 [==============================] - 4s 69us/sample - loss: 0.0331 - acc: 0.9875\n",
            "Epoch 43/50\n",
            "60000/60000 [==============================] - 4s 62us/sample - loss: 0.0358 - acc: 0.9868\n",
            "Epoch 44/50\n",
            "60000/60000 [==============================] - 4s 70us/sample - loss: 0.0353 - acc: 0.9873\n",
            "Epoch 45/50\n",
            "60000/60000 [==============================] - 4s 62us/sample - loss: 0.0351 - acc: 0.9868\n",
            "Epoch 46/50\n",
            "60000/60000 [==============================] - 4s 65us/sample - loss: 0.0345 - acc: 0.9873\n",
            "Epoch 47/50\n",
            "60000/60000 [==============================] - 4s 69us/sample - loss: 0.0327 - acc: 0.9881\n",
            "Epoch 48/50\n",
            "60000/60000 [==============================] - 4s 67us/sample - loss: 0.0372 - acc: 0.9868\n",
            "Epoch 49/50\n",
            "60000/60000 [==============================] - 4s 68us/sample - loss: 0.0324 - acc: 0.9880\n",
            "Epoch 50/50\n",
            "60000/60000 [==============================] - 4s 71us/sample - loss: 0.0341 - acc: 0.9875\n"
          ],
          "name": "stdout"
        },
        {
          "output_type": "execute_result",
          "data": {
            "text/plain": [
              "<tensorflow.python.keras.callbacks.History at 0x7f6ebf388ac8>"
            ]
          },
          "metadata": {
            "tags": []
          },
          "execution_count": 20
        }
      ]
    },
    {
      "cell_type": "code",
      "metadata": {
        "id": "g_X1xDDFuuGh",
        "colab_type": "code",
        "outputId": "58c7d29e-99f8-4291-d81b-9629711bfffb",
        "colab": {
          "base_uri": "https://localhost:8080/",
          "height": 51
        }
      },
      "source": [
        "model.evaluate(test_image,test_label)"
      ],
      "execution_count": 0,
      "outputs": [
        {
          "output_type": "stream",
          "text": [
            "10000/10000 [==============================] - 0s 28us/sample - loss: 1.0566 - acc: 0.8844\n"
          ],
          "name": "stdout"
        },
        {
          "output_type": "execute_result",
          "data": {
            "text/plain": [
              "[1.056629514804203, 0.8844]"
            ]
          },
          "metadata": {
            "tags": []
          },
          "execution_count": 22
        }
      ]
    },
    {
      "cell_type": "code",
      "metadata": {
        "id": "EEwmqFWFxH8M",
        "colab_type": "code",
        "colab": {}
      },
      "source": [
        ""
      ],
      "execution_count": 0,
      "outputs": []
    }
  ]
}