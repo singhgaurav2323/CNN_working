{
  "nbformat": 4,
  "nbformat_minor": 0,
  "metadata": {
    "colab": {
      "name": "convolution.ipynb",
      "version": "0.3.2",
      "provenance": [],
      "include_colab_link": true
    },
    "kernelspec": {
      "name": "python3",
      "display_name": "Python 3"
    }
  },
  "cells": [
    {
      "cell_type": "markdown",
      "metadata": {
        "id": "view-in-github",
        "colab_type": "text"
      },
      "source": [
        "<a href=\"https://colab.research.google.com/github/singhgaurav2323/CNN_working/blob/master/convolution_with_callback.ipynb\" target=\"_parent\"><img src=\"https://colab.research.google.com/assets/colab-badge.svg\" alt=\"Open In Colab\"/></a>"
      ]
    },
    {
      "cell_type": "code",
      "metadata": {
        "id": "w-imhCQgCj--",
        "colab_type": "code",
        "colab": {}
      },
      "source": [
        "import tensorflow as tf"
      ],
      "execution_count": 0,
      "outputs": []
    },
    {
      "cell_type": "code",
      "metadata": {
        "id": "jlV23Ck9IuXN",
        "colab_type": "code",
        "colab": {}
      },
      "source": [
        "dataset =tf.keras.datasets.fashion_mnist"
      ],
      "execution_count": 0,
      "outputs": []
    },
    {
      "cell_type": "code",
      "metadata": {
        "id": "OXmNNM4BQ0UQ",
        "colab_type": "code",
        "colab": {}
      },
      "source": [
        "# call back function\n",
        "\n",
        "class myCallback(tf.keras.callbacks.Callback):\n",
        "  def on_epoch_end(self, epoch, logs={}):\n",
        "    if(logs.get('acc')>0.99):\n",
        "      print(\"\\nReached 99% accuracy so cancelling training!\")\n",
        "      self.model.stop_training = True"
      ],
      "execution_count": 0,
      "outputs": []
    },
    {
      "cell_type": "code",
      "metadata": {
        "id": "PMLUGZxcI882",
        "colab_type": "code",
        "colab": {}
      },
      "source": [
        "(train_image, train_label),(test_image,test_label) =dataset.load_data()"
      ],
      "execution_count": 0,
      "outputs": []
    },
    {
      "cell_type": "code",
      "metadata": {
        "id": "luhsTPp3J76a",
        "colab_type": "code",
        "colab": {}
      },
      "source": [
        "train_image=train_image.reshape(60000, 28, 28, 1)\n",
        "train_image=train_image / 255.0\n",
        "test_image = test_image.reshape(10000, 28, 28, 1)\n",
        "test_image=test_image/255.0"
      ],
      "execution_count": 0,
      "outputs": []
    },
    {
      "cell_type": "code",
      "metadata": {
        "id": "I_KTupP-RHOE",
        "colab_type": "code",
        "colab": {}
      },
      "source": [
        "callbacks = myCallback()\n"
      ],
      "execution_count": 0,
      "outputs": []
    },
    {
      "cell_type": "code",
      "metadata": {
        "id": "zlf2W22uJSmu",
        "colab_type": "code",
        "outputId": "1e30b1db-f932-48f7-ea38-c481724c4cec",
        "colab": {
          "base_uri": "https://localhost:8080/",
          "height": 391
        }
      },
      "source": [
        "model =tf.keras.models.Sequential([\n",
        "    tf.keras.layers.Conv2D(64,(3,3),activation=\"relu\",input_shape=(28,28,1)),\n",
        "    tf.keras.layers.MaxPool2D(2,2),\n",
        "    tf.keras.layers.Conv2D(64,(3,3),activation=\"relu\"),\n",
        "    tf.keras.layers.MaxPool2D(2,2),\n",
        "    tf.keras.layers.Flatten(),\n",
        "    tf.keras.layers.Dense(128,activation=\"relu\"),\n",
        "    tf.keras.layers.Dense(10,activation=\"softmax\")\n",
        "])\n",
        "\n",
        "model.compile(optimizer=\"adam\", loss=\"sparse_categorical_crossentropy\", metrics=['accuracy'])\n",
        "model.summary()\n"
      ],
      "execution_count": 0,
      "outputs": [
        {
          "output_type": "stream",
          "text": [
            "Model: \"sequential_2\"\n",
            "_________________________________________________________________\n",
            "Layer (type)                 Output Shape              Param #   \n",
            "=================================================================\n",
            "conv2d_6 (Conv2D)            (None, 26, 26, 64)        640       \n",
            "_________________________________________________________________\n",
            "max_pooling2d_6 (MaxPooling2 (None, 13, 13, 64)        0         \n",
            "_________________________________________________________________\n",
            "conv2d_7 (Conv2D)            (None, 11, 11, 64)        36928     \n",
            "_________________________________________________________________\n",
            "max_pooling2d_7 (MaxPooling2 (None, 5, 5, 64)          0         \n",
            "_________________________________________________________________\n",
            "flatten_2 (Flatten)          (None, 1600)              0         \n",
            "_________________________________________________________________\n",
            "dense_4 (Dense)              (None, 128)               204928    \n",
            "_________________________________________________________________\n",
            "dense_5 (Dense)              (None, 10)                1290      \n",
            "=================================================================\n",
            "Total params: 243,786\n",
            "Trainable params: 243,786\n",
            "Non-trainable params: 0\n",
            "_________________________________________________________________\n"
          ],
          "name": "stdout"
        }
      ]
    },
    {
      "cell_type": "code",
      "metadata": {
        "id": "b_1oI4djMDif",
        "colab_type": "code",
        "outputId": "bf7a941e-3ad8-4dce-bd37-028b585fa527",
        "colab": {
          "base_uri": "https://localhost:8080/",
          "height": 374
        }
      },
      "source": [
        "model.fit(train_image, train_label,epochs=10, callbacks =[callbacks])"
      ],
      "execution_count": 0,
      "outputs": [
        {
          "output_type": "stream",
          "text": [
            "Epoch 1/10\n",
            "60000/60000 [==============================] - 85s 1ms/sample - loss: 0.4444 - acc: 0.8382\n",
            "Epoch 2/10\n",
            "60000/60000 [==============================] - 84s 1ms/sample - loss: 0.2995 - acc: 0.8898\n",
            "Epoch 3/10\n",
            "60000/60000 [==============================] - 84s 1ms/sample - loss: 0.2541 - acc: 0.9063\n",
            "Epoch 4/10\n",
            "60000/60000 [==============================] - 84s 1ms/sample - loss: 0.2204 - acc: 0.9172\n",
            "Epoch 5/10\n",
            "60000/60000 [==============================] - 83s 1ms/sample - loss: 0.1943 - acc: 0.9272\n",
            "Epoch 6/10\n",
            "60000/60000 [==============================] - 83s 1ms/sample - loss: 0.1714 - acc: 0.9359\n",
            "Epoch 7/10\n",
            "60000/60000 [==============================] - 83s 1ms/sample - loss: 0.1522 - acc: 0.9425\n",
            "Epoch 8/10\n",
            "60000/60000 [==============================] - 83s 1ms/sample - loss: 0.1315 - acc: 0.9505\n",
            "Epoch 9/10\n",
            "60000/60000 [==============================] - 84s 1ms/sample - loss: 0.1191 - acc: 0.9550\n",
            "Epoch 10/10\n",
            "60000/60000 [==============================] - 84s 1ms/sample - loss: 0.1036 - acc: 0.9608\n"
          ],
          "name": "stdout"
        },
        {
          "output_type": "execute_result",
          "data": {
            "text/plain": [
              "<tensorflow.python.keras.callbacks.History at 0x7fca1d46dcf8>"
            ]
          },
          "metadata": {
            "tags": []
          },
          "execution_count": 24
        }
      ]
    },
    {
      "cell_type": "code",
      "metadata": {
        "id": "UufdLXXSNCYv",
        "colab_type": "code",
        "outputId": "a84fdfb8-49fb-40cb-bdaa-144cd391c4eb",
        "colab": {
          "base_uri": "https://localhost:8080/",
          "height": 51
        }
      },
      "source": [
        "model.evaluate(test_image, test_label)"
      ],
      "execution_count": 0,
      "outputs": [
        {
          "output_type": "stream",
          "text": [
            "10000/10000 [==============================] - 4s 409us/sample - loss: 0.2869 - acc: 0.9145\n"
          ],
          "name": "stdout"
        },
        {
          "output_type": "execute_result",
          "data": {
            "text/plain": [
              "[0.28690474687218664, 0.9145]"
            ]
          },
          "metadata": {
            "tags": []
          },
          "execution_count": 25
        }
      ]
    },
    {
      "cell_type": "code",
      "metadata": {
        "id": "TA6K2uCzQZsS",
        "colab_type": "code",
        "colab": {}
      },
      "source": [
        ""
      ],
      "execution_count": 0,
      "outputs": []
    }
  ]
}